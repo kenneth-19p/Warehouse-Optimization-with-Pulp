{
 "cells": [
  {
   "cell_type": "code",
   "execution_count": 1,
   "id": "fa355df4-43b1-4a32-9c43-a91088946cf8",
   "metadata": {
    "tags": []
   },
   "outputs": [
    {
     "name": "stdout",
     "output_type": "stream",
     "text": [
      "Collecting pulp\n",
      "  Downloading PuLP-2.7.0-py3-none-any.whl (14.3 MB)\n",
      "\u001B[2K     \u001B[38;2;114;156;31m━━━━━━━━━━━━━━━━━━━━━━━━━━━━━━━━━━━━━━━━\u001B[0m \u001B[32m14.3/14.3 MB\u001B[0m \u001B[31m22.1 MB/s\u001B[0m eta \u001B[36m0:00:00\u001B[0mm eta \u001B[36m0:00:01\u001B[0m[36m0:00:01\u001B[0m\n",
      "\u001B[?25hInstalling collected packages: pulp\n",
      "Successfully installed pulp-2.7.0\n"
     ]
    }
   ],
   "source": [
    "!pip install pulp"
   ]
  },
  {
   "cell_type": "code",
   "execution_count": 12,
   "id": "e9ae261e-8758-40c9-84ef-98a219874428",
   "metadata": {
    "tags": []
   },
   "outputs": [],
   "source": [
    "from pulp import *"
   ]
  },
  {
   "cell_type": "code",
   "execution_count": 13,
   "id": "897ed2fc-66a4-43d5-8310-4b7e304e4ff7",
   "metadata": {
    "tags": []
   },
   "outputs": [],
   "source": [
    "# A linear programming problem is defined as a maximization problem using LpMaximize. This will maximize the objective function later defined.\n",
    "prob = LpProblem('LPexample', LpMaximize)"
   ]
  },
  {
   "cell_type": "code",
   "execution_count": 14,
   "id": "2d794cca-e280-47bc-9376-667d2c148307",
   "metadata": {
    "tags": []
   },
   "outputs": [],
   "source": [
    "# Defining Decision Variables: Two continuous decision variables x and y are defined. x has a lower bound of 30, while y has no lower bound (default is 0).\n",
    "\n",
    "x= LpVariable('x', lowBound=30, cat= 'Continuous')\n",
    "y = LpVariable('y',None, cat = 'Continuous')"
   ]
  },
  {
   "cell_type": "code",
   "execution_count": 15,
   "id": "296cd215-d4d2-40e2-9079-673064bf6704",
   "metadata": {
    "tags": []
   },
   "outputs": [],
   "source": [
    "#define the objective function\n",
    "prob += 5*x + 7*y, 'Z'"
   ]
  },
  {
   "cell_type": "code",
   "execution_count": 16,
   "id": "ff86c065-0aec-4da7-960d-d189a184382d",
   "metadata": {
    "tags": []
   },
   "outputs": [],
   "source": [
    "# Adding Constraints to the model\n",
    "prob += 4*y <= 10 + x\n",
    "prob += 2*y + 3*x <= 200"
   ]
  },
  {
   "cell_type": "code",
   "execution_count": 17,
   "id": "91581db4-e205-47de-95e1-e5efa07ef115",
   "metadata": {
    "tags": []
   },
   "outputs": [
    {
     "data": {
      "text/plain": [
       "LPexample:\n",
       "MAXIMIZE\n",
       "5*x + 7*y + 0\n",
       "SUBJECT TO\n",
       "_C1: - x + 4 y <= 10\n",
       "\n",
       "_C2: 3 x + 2 y <= 200\n",
       "\n",
       "VARIABLES\n",
       "30 <= x Continuous\n",
       "y free Continuous"
      ]
     },
     "execution_count": 17,
     "metadata": {},
     "output_type": "execute_result"
    }
   ],
   "source": [
    "prob"
   ]
  },
  {
   "cell_type": "code",
   "execution_count": 18,
   "id": "711ec237-9fb6-44e1-a4d4-7bc5cbdf4838",
   "metadata": {
    "tags": []
   },
   "outputs": [
    {
     "name": "stdout",
     "output_type": "stream",
     "text": [
      "Welcome to the CBC MILP Solver \n",
      "Version: 2.10.3 \n",
      "Build Date: Dec 15 2019 \n",
      "\n",
      "command line - /home/mr-pieterson/anaconda3/lib/python3.11/site-packages/pulp/solverdir/cbc/linux/64/cbc /tmp/abf0e52729514ba99ed2c987e6d7ddbd-pulp.mps max timeMode elapsed branch printingOptions all solution /tmp/abf0e52729514ba99ed2c987e6d7ddbd-pulp.sol (default strategy 1)\n",
      "At line 2 NAME          MODEL\n",
      "At line 3 ROWS\n",
      "At line 7 COLUMNS\n",
      "At line 14 RHS\n",
      "At line 17 BOUNDS\n",
      "At line 20 ENDATA\n",
      "Problem MODEL has 2 rows, 2 columns and 4 elements\n",
      "Coin0008I MODEL read with 0 errors\n",
      "Option for timeMode changed from cpu to elapsed\n",
      "Presolve 0 (-2) rows, 0 (-2) columns and 0 (-4) elements\n",
      "Empty problem - 0 rows, 0 columns and 0 elements\n",
      "Optimal - objective value 393.57143\n",
      "After Postsolve, objective 393.57143, infeasibilities - dual 0 (0), primal 0 (0)\n",
      "Optimal objective 393.5714286 - 0 iterations time 0.002, Presolve 0.00\n",
      "Option for printingOptions changed from normal to all\n",
      "Total time (CPU seconds):       0.00   (Wallclock seconds):       0.00\n",
      "\n"
     ]
    },
    {
     "data": {
      "text/plain": [
       "1"
      ]
     },
     "execution_count": 18,
     "metadata": {},
     "output_type": "execute_result"
    }
   ],
   "source": [
    "prob.solve()"
   ]
  },
  {
   "cell_type": "code",
   "execution_count": 19,
   "id": "a5c3235f-745d-4301-bb07-379cbadea631",
   "metadata": {
    "tags": []
   },
   "outputs": [
    {
     "data": {
      "text/plain": [
       "'Optimal'"
      ]
     },
     "execution_count": 19,
     "metadata": {},
     "output_type": "execute_result"
    }
   ],
   "source": [
    "LpStatus[prob.status]"
   ]
  },
  {
   "cell_type": "code",
   "execution_count": 20,
   "id": "5324d44d-a4f8-4b14-96cc-c1a2af7a5c7b",
   "metadata": {
    "tags": []
   },
   "outputs": [
    {
     "name": "stdout",
     "output_type": "stream",
     "text": [
      "x = 55.714286\n",
      "y = 16.428571\n"
     ]
    }
   ],
   "source": [
    "# Each of the variables is printed with it's resolved optimum value\n",
    "for v in prob.variables():\n",
    "    print (v.name, '=', v.varValue)"
   ]
  },
  {
   "cell_type": "code",
   "execution_count": 21,
   "id": "0018e247-4392-4913-ba27-cec571e02632",
   "metadata": {
    "tags": []
   },
   "outputs": [
    {
     "name": "stdout",
     "output_type": "stream",
     "text": [
      "393.571427\n"
     ]
    }
   ],
   "source": [
    "# Print the optimaised solution\n",
    "print(value(prob.objective))"
   ]
  },
  {
   "cell_type": "code",
   "execution_count": 23,
   "id": "9e2a2e41-ee74-434e-a441-4a17c64e96dd",
   "metadata": {
    "tags": []
   },
   "outputs": [],
   "source": [
    "# Create a list of items\n",
    "# Data Preparation: A list of items and two dictionaries are defined. The size dictionary contains the sizes of each item, and the prof dictionary contains the corresponding profit values for each item.\n",
    "item = ['A', 'B', 'C', 'D', 'E', 'F', 'G', 'H']\n",
    "\n",
    "# Create a dictionary of the size of each item\n",
    "size = {'A':3, 'B':3, 'C':4, 'D':5, 'E':3.5, 'F':4, 'G':2, 'H':1}\n",
    "\n",
    "#Create a dictionary of the profit of each item\n",
    "\n",
    "prof = {'A':240,'B':245,'C':250,'D':420,'E':300,'F':150,'G':140,'H':100}"
   ]
  },
  {
   "cell_type": "code",
   "execution_count": 24,
   "id": "9a7d6d10-f78d-42ab-afac-aea4c0313635",
   "metadata": {
    "tags": []
   },
   "outputs": [],
   "source": [
    "# Initialise the problem model\n",
    "# A new linear programming problem is initialized to maximize profit.\n",
    "model = LpProblem('warehousing', LpMaximize)"
   ]
  },
  {
   "cell_type": "code",
   "execution_count": 26,
   "id": "bed07343-ad58-4349-bcac-b37cad34de63",
   "metadata": {
    "tags": []
   },
   "outputs": [
    {
     "data": {
      "text/plain": [
       "{'A': stock__A,\n",
       " 'B': stock__B,\n",
       " 'C': stock__C,\n",
       " 'D': stock__D,\n",
       " 'E': stock__E,\n",
       " 'F': stock__F,\n",
       " 'G': stock__G,\n",
       " 'H': stock__H}"
      ]
     },
     "execution_count": 26,
     "metadata": {},
     "output_type": "execute_result"
    }
   ],
   "source": [
    "# Define Decision Variables\n",
    "# Decision variables representing stock quantities for each item are defined as integer values\n",
    "x = LpVariable.dicts('stock_', item, lowBound=0, cat='Integer')\n",
    "x"
   ]
  },
  {
   "cell_type": "code",
   "execution_count": 28,
   "id": "662307aa-4872-4bb8-8ac5-6f960d3ef004",
   "metadata": {
    "tags": []
   },
   "outputs": [],
   "source": [
    "# Objective Function\n",
    "# The objective function is defined as the total profit, which is the sum of profits for each item multiplied by the stock quantities.\n",
    "model += lpSum([prof[i]*x[i] for i in item])"
   ]
  },
  {
   "metadata": {},
   "cell_type": "markdown",
   "source": "",
   "id": "1d91efaf72af81b8"
  },
  {
   "cell_type": "code",
   "execution_count": 29,
   "id": "05206154-dbb2-4421-87e6-97b136889f67",
   "metadata": {
    "tags": []
   },
   "outputs": [],
   "source": [
    "# Define Constraints\n",
    "# Constraints:The problem includes several constraints:\n",
    "# Capacity constraint: The total profit must not exceed $900.\n",
    "# Stock constraint: Either item A or B must be stocked.\n",
    "# Equality constraint: The stock of item G must equal the stock of item H.\n",
    "\n",
    "model += lpSum([prof[i]*x[i] for i in item]) <= 900, 'Capacity Cons'\n",
    "model += x['A'] + x['B']>=1, 'A or B'\n",
    "model += x['G'] - x['H'] == 0, 'G=H'"
   ]
  },
  {
   "cell_type": "markdown",
   "id": "340c08e3-4725-4f75-813d-b797b29e0507",
   "metadata": {},
   "source": [
    "Finally let's solve the problem and print out the results"
   ]
  },
  {
   "cell_type": "code",
   "execution_count": 30,
   "id": "fdc9fea3-40dd-403a-8df0-894d428610bf",
   "metadata": {
    "tags": []
   },
   "outputs": [
    {
     "name": "stdout",
     "output_type": "stream",
     "text": [
      "Welcome to the CBC MILP Solver \n",
      "Version: 2.10.3 \n",
      "Build Date: Dec 15 2019 \n",
      "\n",
      "command line - /home/mr-pieterson/anaconda3/lib/python3.11/site-packages/pulp/solverdir/cbc/linux/64/cbc /tmp/a620e2f03fc94d8ba41aa8bd2939cdea-pulp.mps max timeMode elapsed branch printingOptions all solution /tmp/a620e2f03fc94d8ba41aa8bd2939cdea-pulp.sol (default strategy 1)\n",
      "At line 2 NAME          MODEL\n",
      "At line 3 ROWS\n",
      "At line 8 COLUMNS\n",
      "At line 45 RHS\n",
      "At line 49 BOUNDS\n",
      "At line 58 ENDATA\n",
      "Problem MODEL has 3 rows, 8 columns and 12 elements\n",
      "Coin0008I MODEL read with 0 errors\n",
      "Option for timeMode changed from cpu to elapsed\n",
      "Continuous objective value is 900 - 0.00 seconds\n",
      "Cgl0004I processed model has 2 rows, 7 columns (7 integer (0 of which binary)) and 9 elements\n",
      "Cutoff increment increased from 1e-05 to 4.9999\n",
      "Cbc0012I Integer solution of -735 found by DiveCoefficient after 0 iterations and 0 nodes (0.00 seconds)\n",
      "Cbc0038I Full problem 2 rows 7 columns, reduced to 2 rows 2 columns\n",
      "Cbc0012I Integer solution of -900 found by DiveCoefficient after 33 iterations and 0 nodes (0.00 seconds)\n",
      "Cbc0031I 3 added rows had average density of 6.3333333\n",
      "Cbc0013I At root node, 3 cuts changed objective from -900 to -900 in 16 passes\n",
      "Cbc0014I Cut generator 0 (Probing) - 0 row cuts average 0.0 elements, 0 column cuts (0 active)  in 0.000 seconds - new frequency is -100\n",
      "Cbc0014I Cut generator 1 (Gomory) - 24 row cuts average 7.0 elements, 0 column cuts (0 active)  in 0.000 seconds - new frequency is -100\n",
      "Cbc0014I Cut generator 2 (Knapsack) - 0 row cuts average 0.0 elements, 0 column cuts (0 active)  in 0.000 seconds - new frequency is -100\n",
      "Cbc0014I Cut generator 3 (Clique) - 0 row cuts average 0.0 elements, 0 column cuts (0 active)  in 0.000 seconds - new frequency is -100\n",
      "Cbc0014I Cut generator 4 (MixedIntegerRounding2) - 0 row cuts average 0.0 elements, 0 column cuts (0 active)  in 0.000 seconds - new frequency is -100\n",
      "Cbc0014I Cut generator 5 (FlowCover) - 0 row cuts average 0.0 elements, 0 column cuts (0 active)  in 0.000 seconds - new frequency is -100\n",
      "Cbc0014I Cut generator 6 (TwoMirCuts) - 7 row cuts average 6.0 elements, 0 column cuts (0 active)  in 0.000 seconds - new frequency is -100\n",
      "Cbc0001I Search completed - best objective -900, took 33 iterations and 0 nodes (0.00 seconds)\n",
      "Cbc0035I Maximum depth 0, 0 variables fixed on reduced cost\n",
      "Cuts at root node changed objective from -900 to -900\n",
      "Probing was tried 16 times and created 0 cuts of which 0 were active after adding rounds of cuts (0.000 seconds)\n",
      "Gomory was tried 16 times and created 24 cuts of which 0 were active after adding rounds of cuts (0.000 seconds)\n",
      "Knapsack was tried 16 times and created 0 cuts of which 0 were active after adding rounds of cuts (0.000 seconds)\n",
      "Clique was tried 16 times and created 0 cuts of which 0 were active after adding rounds of cuts (0.000 seconds)\n",
      "MixedIntegerRounding2 was tried 16 times and created 0 cuts of which 0 were active after adding rounds of cuts (0.000 seconds)\n",
      "FlowCover was tried 16 times and created 0 cuts of which 0 were active after adding rounds of cuts (0.000 seconds)\n",
      "TwoMirCuts was tried 16 times and created 7 cuts of which 0 were active after adding rounds of cuts (0.000 seconds)\n",
      "ZeroHalf was tried 1 times and created 0 cuts of which 0 were active after adding rounds of cuts (0.000 seconds)\n",
      "\n",
      "Result - Optimal solution found\n",
      "\n",
      "Objective value:                900.00000000\n",
      "Enumerated nodes:               0\n",
      "Total iterations:               33\n",
      "Time (CPU seconds):             0.00\n",
      "Time (Wallclock seconds):       0.00\n",
      "\n",
      "Option for printingOptions changed from normal to all\n",
      "Total time (CPU seconds):       0.00   (Wallclock seconds):       0.00\n",
      "\n",
      "A stock 1.0\n",
      "B stock 0.0\n",
      "C stock 0.0\n",
      "D stock 1.0\n",
      "E stock 0.0\n",
      "F stock 0.0\n",
      "G stock 1.0\n",
      "H stock 1.0\n",
      "The maximization profit could be $900.0\n"
     ]
    }
   ],
   "source": [
    "# Solve Model\n",
    "# Solving the Problem:The problem is solved, and the optimal stock quantity for each item is printed. The maximum possible profit is also printed model.solve()\n",
    "\n",
    "for i in item:\n",
    "    print('{} stock {}'.format(i, x[i].varValue))\n",
    "    \n",
    "print('The maximization profit could be ${}'.format(value(model.objective)))"
   ]
  },
  {
   "cell_type": "code",
   "execution_count": null,
   "id": "47398069-0d9c-407d-b8e7-a8ee0b998c7c",
   "metadata": {},
   "outputs": [],
   "source": []
  }
 ],
 "metadata": {
  "kernelspec": {
   "display_name": "Python 3 (ipykernel)",
   "language": "python",
   "name": "python3"
  },
  "language_info": {
   "codemirror_mode": {
    "name": "ipython",
    "version": 3
   },
   "file_extension": ".py",
   "mimetype": "text/x-python",
   "name": "python",
   "nbconvert_exporter": "python",
   "pygments_lexer": "ipython3",
   "version": "3.11.5"
  }
 },
 "nbformat": 4,
 "nbformat_minor": 5
}
